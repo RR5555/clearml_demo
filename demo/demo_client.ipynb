{
 "cells": [
  {
   "cell_type": "markdown",
   "metadata": {},
   "source": [
    "# On the Client side"
   ]
  },
  {
   "cell_type": "markdown",
   "metadata": {},
   "source": [
    "Use the 'right' venv for the ipynb kernel (Might need to first `Python: Select Interpreter`, before the venv is proposed as an available kernel)."
   ]
  },
  {
   "cell_type": "markdown",
   "metadata": {},
   "source": [
    "**Install the packages for the demo in the venv:**"
   ]
  },
  {
   "cell_type": "markdown",
   "metadata": {},
   "source": [
    "If you already installed an environment, and just wanna check if you have all the required packages:"
   ]
  },
  {
   "cell_type": "code",
   "execution_count": 1,
   "metadata": {},
   "outputs": [
    {
     "name": "stdout",
     "output_type": "stream",
     "text": [
      "clearml==1.16.4\n",
      "clearml-agent==1.9.1\n",
      "scikit-learn==1.5.2\n",
      "pandas==2.2.2\n",
      "# from task\n",
      "joblib==1.4.2\n",
      "matplotlib==3.9.2\n",
      "numpy==2.1.1\n",
      "\u001b[33mWARNING: Requirement file [../requirements.txt] contains torch, but package 'torch' is not installed\u001b[0m\u001b[33m\n",
      "\u001b[0m\u001b[33mWARNING: Requirement file [../requirements.txt] contains torchvision, but package 'torchvision' is not installed\u001b[0m\u001b[33m\n",
      "\u001b[0m\u001b[33mWARNING: Requirement file [../requirements.txt] contains tensorboard, but package 'tensorboard' is not installed\u001b[0m\u001b[33m\n",
      "\u001b[0m\n",
      "# for ipynb\n",
      "ipywidgets==8.1.5\n",
      "## The following requirements were added by pip freeze:\n",
      "asttokens==2.4.1\n",
      "attrs==23.2.0\n",
      "certifi==2024.8.30\n",
      "charset-normalizer==3.3.2\n",
      "comm==0.2.2\n",
      "contourpy==1.3.0\n",
      "cycler==0.12.1\n",
      "debugpy==1.8.5\n",
      "decorator==5.1.1\n",
      "distlib==0.3.8\n",
      "exceptiongroup==1.2.2\n",
      "executing==2.1.0\n",
      "fastjsonschema==2.20.0\n",
      "filelock==3.16.0\n",
      "fonttools==4.53.1\n",
      "furl==2.1.3\n",
      "idna==3.8\n",
      "ipykernel==6.29.5\n",
      "ipython==8.27.0\n",
      "jedi==0.19.1\n",
      "jsonschema==4.23.0\n",
      "jsonschema-specifications==2023.12.1\n",
      "jupyter_client==8.6.2\n",
      "jupyter_core==5.7.2\n",
      "jupyterlab_widgets==3.0.13\n",
      "kiwisolver==1.4.7\n",
      "matplotlib-inline==0.1.7\n",
      "nbformat==5.10.4\n",
      "nest-asyncio==1.6.0\n",
      "orderedmultidict==1.0.1\n",
      "packaging==24.1\n",
      "parso==0.8.4\n",
      "pathlib2==2.3.7.post1\n",
      "pexpect==4.9.0\n",
      "pillow==10.4.0\n",
      "platformdirs==4.3.2\n",
      "prompt_toolkit==3.0.47\n",
      "psutil==5.9.8\n",
      "ptyprocess==0.7.0\n",
      "pure_eval==0.2.3\n",
      "Pygments==2.18.0\n",
      "PyJWT==2.8.0\n",
      "pyparsing==3.1.4\n",
      "python-dateutil==2.8.2\n",
      "pytz==2024.2\n",
      "PyYAML==6.0.2\n",
      "pyzmq==26.2.0\n",
      "referencing==0.35.1\n",
      "requests==2.31.0\n",
      "rpds-py==0.20.0\n",
      "scipy==1.14.1\n",
      "six==1.16.0\n",
      "stack-data==0.6.3\n",
      "threadpoolctl==3.5.0\n",
      "tornado==6.4.1\n",
      "traitlets==5.14.3\n",
      "typing_extensions==4.12.2\n",
      "tzdata==2024.1\n",
      "urllib3==1.26.20\n",
      "virtualenv==20.26.4\n",
      "wcwidth==0.2.13\n",
      "widgetsnbextension==4.0.13\n"
     ]
    }
   ],
   "source": [
    "!pip freeze -r ../requirements.txt"
   ]
  },
  {
   "cell_type": "markdown",
   "metadata": {},
   "source": [
    "If you notice any:\n",
    "```bash\n",
    "WARNING: Requirement file [../requirements.txt] contains pkg_name, but package 'pkg_name' is not installed\n",
    "```\n",
    "Then, you are missing packages that will be used in the demo at some points."
   ]
  },
  {
   "cell_type": "markdown",
   "metadata": {},
   "source": [
    "**To install the rquired packages:**\n",
    "\n",
    "Either call:\n",
    "```bash\n",
    "make install-env\n",
    "```\n",
    "Or directly run:"
   ]
  },
  {
   "cell_type": "code",
   "execution_count": null,
   "metadata": {},
   "outputs": [],
   "source": [
    "# %pip install -r requirements.txt"
   ]
  },
  {
   "cell_type": "markdown",
   "metadata": {},
   "source": [
    "> <svg style=\"line-height: 1; height: 1.5em; width: 1.5em; vertical-align: middle;\" xmlns=\"http://www.w3.org/2000/svg\" viewBox=\"0 0 512 512\"><!--!Font Awesome Free 6.6.0 by @fontawesome - https://fontawesome.com License - https://fontawesome.com/license/free Copyright 2024 Fonticons, Inc.--><path fill='grey' d=\"M256 32c14.2 0 27.3 7.5 34.5 19.8l216 368c7.3 12.4 7.3 27.7 .2 40.1S486.3 480 472 480L40 480c-14.3 0-27.6-7.7-34.7-20.1s-7-27.8 .2-40.1l216-368C228.7 39.5 241.8 32 256 32zm0 128c-13.3 0-24 10.7-24 24l0 112c0 13.3 10.7 24 24 24s24-10.7 24-24l0-112c0-13.3-10.7-24-24-24zm32 224a32 32 0 1 0 -64 0 32 32 0 1 0 64 0z\"/></svg> WARNING:\\\n",
    "> Using:\n",
    "> ```python\n",
    "> !the_cmd\n",
    "> ```\n",
    "> Resulted in weird behaviours: agent present to closing down and could not take on any task from the queue\n",
    "> Instead using:\n",
    "> ```python\n",
    "> %%bash\n",
    "> the_cmd\n",
    "> ```\n",
    "> Resulted in the correct behaviours"
   ]
  },
  {
   "cell_type": "markdown",
   "metadata": {},
   "source": [
    "# Exploring agents"
   ]
  },
  {
   "cell_type": "markdown",
   "metadata": {},
   "source": [
    "First, let's check if any agent is running:"
   ]
  },
  {
   "cell_type": "code",
   "execution_count": null,
   "metadata": {},
   "outputs": [
    {
     "name": "stdout",
     "output_type": "stream",
     "text": [
      "workers: []\n",
      "\n"
     ]
    }
   ],
   "source": [
    "%%bash\n",
    "clearml-agent list"
   ]
  },
  {
   "cell_type": "markdown",
   "metadata": {},
   "source": [
    "With no agent running, you should get the following output:\n",
    "```bash\n",
    "workers: []\n",
    "```\n"
   ]
  },
  {
   "cell_type": "markdown",
   "metadata": {},
   "source": [
    "**To launch an agent:**\\\n",
    "*(with name `clearml-agent-bengio`, id `clearml-agent-bengio:gpu0`, on gpu 0 with queue `gpu_dithering`)*\n",
    "\n",
    "Either call:\n",
    "```bash\n",
    "make launch-agent\n",
    "```\n",
    "Or directly call:"
   ]
  },
  {
   "cell_type": "code",
   "execution_count": null,
   "metadata": {},
   "outputs": [
    {
     "name": "stdout",
     "output_type": "stream",
     "text": [
      "Current configuration (clearml_agent v1.9.1, location: /home/blissfox-server/clearml.conf):\n",
      "----------------------\n",
      "agent.worker_id = clearml-agent-bengio:gpu0\n",
      "agent.worker_name = clearml-agent-bengio\n",
      "agent.force_git_ssh_protocol = false\n",
      "agent.python_binary = /usr/bin/python3.10\n",
      "agent.package_manager.type = pip\n",
      "agent.package_manager.pip_version.0 = <20.2 ; python_version < '3.10'\n",
      "agent.package_manager.pip_version.1 = <22.3 ; python_version >\\= '3.10' and python_version <\\= '3.11'\n",
      "agent.package_manager.pip_version.2 = >\\=23,<24.3 ; python_version >\\= '3.12'\n",
      "agent.package_manager.system_site_packages = false\n",
      "agent.package_manager.force_upgrade = false\n",
      "agent.package_manager.conda_channels.0 = pytorch\n",
      "agent.package_manager.conda_channels.1 = conda-forge\n",
      "agent.package_manager.conda_channels.2 = nvidia\n",
      "agent.package_manager.conda_channels.3 = defaults\n",
      "agent.package_manager.priority_optional_packages.0 = pygobject\n",
      "agent.package_manager.torch_nightly = false\n",
      "agent.package_manager.poetry_files_from_repo_working_dir = false\n",
      "agent.venvs_dir = /home/blissfox-server/.clearml/venvs-builds\n",
      "agent.venvs_cache.max_entries = 10\n",
      "agent.venvs_cache.free_space_threshold_gb = 2.0\n",
      "agent.venvs_cache.path = ~/.clearml/venvs-cache\n",
      "agent.vcs_cache.enabled = true\n",
      "agent.vcs_cache.path = /home/blissfox-server/.clearml/vcs-cache\n",
      "agent.venv_update.enabled = false\n",
      "agent.pip_download_cache.enabled = true\n",
      "agent.pip_download_cache.path = /home/blissfox-server/.clearml/pip-download-cache\n",
      "agent.translate_ssh = true\n",
      "agent.reload_config = false\n",
      "agent.docker_pip_cache = /home/blissfox-server/.clearml/pip-cache\n",
      "agent.docker_apt_cache = /home/blissfox-server/.clearml/apt-cache\n",
      "agent.docker_force_pull = false\n",
      "agent.default_docker.image = nvidia/cuda:11.0.3-cudnn8-runtime-ubuntu20.04\n",
      "agent.default_docker.match_rules.0.image = python:3.6-bullseye\n",
      "agent.default_docker.match_rules.0.arguments = --ipc\\=host\n",
      "agent.default_docker.match_rules.0.match.script.binary = python3.6$\n",
      "agent.default_docker.match_rules.1.image = python:3.7-bullseye\n",
      "agent.default_docker.match_rules.1.arguments = --ipc\\=host\n",
      "agent.default_docker.match_rules.1.match.script.binary = python3.7$\n",
      "agent.default_docker.match_rules.2.image = python:3.8-bullseye\n",
      "agent.default_docker.match_rules.2.arguments = --ipc\\=host\n",
      "agent.default_docker.match_rules.2.match.script.binary = python3.8$\n",
      "agent.default_docker.match_rules.3.image = python:3.9-bullseye\n",
      "agent.default_docker.match_rules.3.arguments = --ipc\\=host\n",
      "agent.default_docker.match_rules.3.match.script.binary = python3.9$\n",
      "agent.default_docker.match_rules.4.image = python:3.10-bullseye\n",
      "agent.default_docker.match_rules.4.arguments = --ipc\\=host\n",
      "agent.default_docker.match_rules.4.match.script.binary = python3.10$\n",
      "agent.default_docker.match_rules.5.image = python:3.11-bullseye\n",
      "agent.default_docker.match_rules.5.arguments = --ipc\\=host\n",
      "agent.default_docker.match_rules.5.match.script.binary = python3.11$\n",
      "agent.default_docker.match_rules.6.image = python:3.12-bullseye\n",
      "agent.default_docker.match_rules.6.arguments = --ipc\\=host\n",
      "agent.default_docker.match_rules.6.match.script.binary = python3.12$\n",
      "agent.enable_task_env = false\n",
      "agent.sanitize_config_printout = ****\n",
      "agent.hide_docker_command_env_vars.enabled = true\n",
      "agent.hide_docker_command_env_vars.parse_embedded_urls = true\n",
      "agent.abort_callback_max_timeout = 1800\n",
      "agent.docker_internal_mounts.sdk_cache = /clearml_agent_cache\n",
      "agent.docker_internal_mounts.apt_cache = /var/cache/apt/archives\n",
      "agent.docker_internal_mounts.ssh_folder = ~/.ssh\n",
      "agent.docker_internal_mounts.ssh_ro_folder = /.ssh\n",
      "agent.docker_internal_mounts.pip_cache = /root/.cache/pip\n",
      "agent.docker_internal_mounts.poetry_cache = /root/.cache/pypoetry\n",
      "agent.docker_internal_mounts.vcs_cache = /root/.clearml/vcs-cache\n",
      "agent.docker_internal_mounts.venvs_cache = /root/.clearml/venvs-cache\n",
      "agent.docker_internal_mounts.venv_build = ~/.clearml/venvs-builds\n",
      "agent.docker_internal_mounts.pip_download = /root/.clearml/pip-download-cache\n",
      "agent.apply_environment = true\n",
      "agent.apply_files = true\n",
      "agent.custom_build_script = \n",
      "agent.disable_task_docker_override = false\n",
      "agent.git_user = RR5555\n",
      "agent.git_pass = ****\n",
      "agent.default_python = 3.10\n",
      "agent.cuda_version = 122\n",
      "agent.cudnn_version = 0\n",
      "sdk.storage.cache.default_base_dir = ~/.clearml/cache\n",
      "sdk.storage.cache.size.min_free_bytes = 10GB\n",
      "sdk.storage.direct_access.0.url = file://*\n",
      "sdk.metrics.file_history_size = 100\n",
      "sdk.metrics.matplotlib_untitled_history_size = 100\n",
      "sdk.metrics.images.format = JPEG\n",
      "sdk.metrics.images.quality = 87\n",
      "sdk.metrics.images.subsampling = 0\n",
      "sdk.metrics.tensorboard_single_series_per_graph = false\n",
      "sdk.network.metrics.file_upload_threads = 4\n",
      "sdk.network.metrics.file_upload_starvation_warning_sec = 120\n",
      "sdk.network.iteration.max_retries_on_server_error = 5\n",
      "sdk.network.iteration.retry_backoff_factor_sec = 10\n",
      "sdk.network.file_upload_retries = 3\n",
      "sdk.aws.s3.key = \n",
      "sdk.aws.s3.secret = ****\n",
      "sdk.aws.s3.region = \n",
      "sdk.aws.s3.use_credentials_chain = false\n",
      "sdk.aws.boto3.pool_connections = 512\n",
      "sdk.aws.boto3.max_multipart_concurrency = 16\n",
      "sdk.aws.boto3.multipart_threshold = 8388608\n",
      "sdk.aws.boto3.multipart_chunksize = 8388608\n",
      "sdk.log.null_log_propagate = false\n",
      "sdk.log.task_log_buffer_capacity = 66\n",
      "sdk.log.disable_urllib3_info = true\n",
      "sdk.development.task_reuse_time_window_in_hours = 72.0\n",
      "sdk.development.vcs_repo_detect_async = true\n",
      "sdk.development.store_uncommitted_code_diff = true\n",
      "sdk.development.support_stopping = true\n",
      "sdk.development.default_output_uri = \n",
      "sdk.development.force_analyze_entire_repo = false\n",
      "sdk.development.suppress_update_message = false\n",
      "sdk.development.detect_with_pip_freeze = false\n",
      "sdk.development.worker.report_period_sec = 2\n",
      "sdk.development.worker.ping_period_sec = 30\n",
      "sdk.development.worker.log_stdout = true\n",
      "sdk.development.worker.report_global_mem_used = false\n",
      "sdk.development.worker.report_event_flush_threshold = 100\n",
      "sdk.development.worker.console_cr_flush_period = 10\n",
      "sdk.apply_environment = false\n",
      "sdk.apply_files = false\n",
      "api.version = 1.5\n",
      "api.verify_certificate = true\n",
      "api.default_version = 1.5\n",
      "api.http.max_req_size = 15728640\n",
      "api.http.retries.total = 240\n",
      "api.http.retries.connect = 240\n",
      "api.http.retries.read = 240\n",
      "api.http.retries.redirect = 240\n",
      "api.http.retries.status = 240\n",
      "api.http.retries.backoff_factor = 1.0\n",
      "api.http.retries.backoff_max = 120.0\n",
      "api.http.wait_on_maintenance_forever = true\n",
      "api.http.pool_maxsize = 512\n",
      "api.http.pool_connections = 512\n",
      "api.auth.token_expiration_threshold_sec = ****\n",
      "api.api_server = https://api.clearml.blissfox.xyz\n",
      "api.web_server = https://app.clearml.blissfox.xyz\n",
      "api.files_server = https://files.clearml.blissfox.xyz\n",
      "api.credentials.access_key = EUAQEJNSXKQU1UN76PMC\n",
      "api.credentials.secret_key = ****\n",
      "api.host = https://api.clearml.blissfox.xyz\n",
      "\n",
      "Worker \"clearml-agent-bengio:gpu0\" - Listening to queues:\n",
      "+----------------------------------+---------------+-------+\n",
      "| id                               | name          | tags  |\n",
      "+----------------------------------+---------------+-------+\n",
      "| 6b55ab8e3be4482eb53acfed3e4037a5 | gpu_dithering |       |\n",
      "+----------------------------------+---------------+-------+\n",
      "\n",
      "Running CLEARML-AGENT daemon in background mode, writing stdout/stderr to /tmp/.clearml_agent_daemon_out0v1et8_d.txt\n"
     ]
    }
   ],
   "source": [
    "%%bash\n",
    "CLEARML_WORKER_NAME=clearml-agent-bengio CLEARML_WORKER_ID=clearml-agent-bengio:gpu0 clearml-agent daemon --detached --queue gpu_dithering --create-queue --gpus 0"
   ]
  },
  {
   "cell_type": "markdown",
   "metadata": {},
   "source": [
    "<details>\n",
    "<summary>Output</summary>\n",
    "\n",
    "```bash\n",
    "Current configuration (clearml_agent v1.9.1, location: /home/blissfox-server/clearml.conf):\n",
    "----------------------\n",
    "agent.worker_id = clearml-agent-bengio:gpu0\n",
    "agent.worker_name = clearml-agent-bengio\n",
    "agent.force_git_ssh_protocol = false\n",
    "agent.python_binary = /usr/bin/python3.10\n",
    "agent.package_manager.type = pip\n",
    "agent.package_manager.pip_version.0 = <20.2 ; python_version < '3.10'\n",
    "agent.package_manager.pip_version.1 = <22.3 ; python_version >\\= '3.10' and python_version <\\= '3.11'\n",
    "agent.package_manager.pip_version.2 = >\\=23,<24.3 ; python_version >\\= '3.12'\n",
    "agent.package_manager.system_site_packages = false\n",
    "agent.package_manager.force_upgrade = false\n",
    "agent.package_manager.conda_channels.0 = pytorch\n",
    "agent.package_manager.conda_channels.1 = conda-forge\n",
    "agent.package_manager.conda_channels.2 = nvidia\n",
    "agent.package_manager.conda_channels.3 = defaults\n",
    "agent.package_manager.priority_optional_packages.0 = pygobject\n",
    "agent.package_manager.torch_nightly = false\n",
    "agent.package_manager.poetry_files_from_repo_working_dir = false\n",
    "agent.venvs_dir = /home/blissfox-server/.clearml/venvs-builds\n",
    "agent.venvs_cache.max_entries = 10\n",
    "agent.venvs_cache.free_space_threshold_gb = 2.0\n",
    "agent.venvs_cache.path = ~/.clearml/venvs-cache\n",
    "agent.vcs_cache.enabled = true\n",
    "agent.vcs_cache.path = /home/blissfox-server/.clearml/vcs-cache\n",
    "...\n",
    "| 6b55ab8e3be4482eb53acfed3e4037a5 | gpu_dithering |       |\n",
    "+----------------------------------+---------------+-------+\n",
    "\n",
    "Running CLEARML-AGENT daemon in background mode, writing stdout/stderr to /tmp/.clearml_agent_daemon_out47ajuksj.txt\n",
    "```\n",
    "\n",
    "</details>"
   ]
  },
  {
   "cell_type": "markdown",
   "metadata": {},
   "source": [
    "<details>\n",
    "<summary>About the cmd & arguments</summary>\n",
    "\n",
    "From [ClearML Agent CLI](https://clear.ml/docs/latest/docs/clearml_agent/clearml_agent_ref/):\n",
    "|||\n",
    "|:---|:---|\n",
    "|`daemon`|command to spin up an agent on any machine|\n",
    "|`--create-queue`|If the queue name provided with `--queue` does not exist in the server, create it on-the-fly and use it.|\n",
    "|`--detached`|Run agent in the background. The `clearml-agent` command returns immediately.|\n",
    "|`--gpus`|If running in Docker mode (see the `--docker` option), specify the active GPUs for the Docker containers to use. These are the same GPUs set in the `NVIDIA_VISIBLE_DEVICES` environment variable. For example:<ul><li>`--gpus 0`</li><li>`--gpu 0,1,2`</li><li>`--gpus all`</li></ul>|\n",
    "|`--queue`|Specify the queues which the worker is listening to. The values can be any combination of:<ul><li>One or more queue IDs</li><li>One or more queue names</li><li>`default` indicating the default queue</li></ul>\n",
    "</details>"
   ]
  },
  {
   "cell_type": "markdown",
   "metadata": {},
   "source": [
    "<details>\n",
    "<summary>On the GUI:</summary>\n",
    "\n",
    "* Before:\\\n",
    "    ![](./../img/Workers_null.png)\n",
    "* After:\\\n",
    "    ![](./../img/Workers_bengio0_0.png)\\\n",
    "    ![](./../img/Workers_bengio0_1.png)\n",
    "\n",
    "</details>"
   ]
  },
  {
   "cell_type": "markdown",
   "metadata": {},
   "source": [
    "Let's check out again the agent available from the CLI:"
   ]
  },
  {
   "cell_type": "code",
   "execution_count": null,
   "metadata": {},
   "outputs": [
    {
     "name": "stdout",
     "output_type": "stream",
     "text": [
      "workers:\n",
      "- company:\n",
      "    id: d1bd92a3b039400cbafc60a7a5b1e52b\n",
      "    name: clearml\n",
      "  id: clearml-agent-bengio:gpu0\n",
      "  ip: 172.25.1.1\n",
      "  key: worker_d1bd92a3b039400cbafc60a7a5b1e52b_0f358a174884f2c34ef7def624d3e1a0_clearml-agent-bengio:gpu0\n",
      "  last_activity_time: '2024-09-28T10:27:23.587122+00:00'\n",
      "  last_report_time: '2024-09-28T10:27:23.587122+00:00'\n",
      "  queues:\n",
      "  - id: 6b55ab8e3be4482eb53acfed3e4037a5\n",
      "    name: gpu_dithering\n",
      "    num_tasks: 0\n",
      "  register_time: '2024-09-28T10:27:20.249917+00:00'\n",
      "  register_timeout: 600\n",
      "  system_tags: []\n",
      "  tags: []\n",
      "  user:\n",
      "    id: 0f358a174884f2c34ef7def624d3e1a0\n",
      "    name: RR5555\n",
      "\n"
     ]
    }
   ],
   "source": [
    "%%bash\n",
    "clearml-agent list"
   ]
  },
  {
   "cell_type": "markdown",
   "metadata": {},
   "source": [
    "<details>\n",
    "<summary>Output</summary>\n",
    "\n",
    "```bash\n",
    "workers:\n",
    "- company:\n",
    "    id: d1bd92a3b039400cbafc60a7a5b1e52b\n",
    "    name: clearml\n",
    "  id: clearml-agent-bengio:gpu0\n",
    "  ip: 172.25.1.1\n",
    "  key: worker_d1bd92a3b039400cbafc60a7a5b1e52b_0f358a174884f2c34ef7def624d3e1a0_clearml-agent-bengio:gpu0\n",
    "  last_activity_time: '2024-09-16T11:46:44.589928+00:00'\n",
    "  queues:\n",
    "  - id: 6b55ab8e3be4482eb53acfed3e4037a5\n",
    "    name: gpu_dithering\n",
    "    num_tasks: 0\n",
    "  register_time: '2024-09-16T11:46:44.589928+00:00'\n",
    "  register_timeout: 600\n",
    "  system_tags: []\n",
    "  tags: []\n",
    "  user:\n",
    "    id: 0f358a174884f2c34ef7def624d3e1a0\n",
    "    name: RR5555\n",
    "```\n",
    "</details>"
   ]
  },
  {
   "cell_type": "code",
   "execution_count": null,
   "metadata": {},
   "outputs": [],
   "source": [
    "%%bash\n",
    "docker ps"
   ]
  },
  {
   "cell_type": "code",
   "execution_count": 21,
   "metadata": {},
   "outputs": [
    {
     "name": "stdout",
     "output_type": "stream",
     "text": [
      ".clearmlagent_83894_2cktpmnu.tmp\n",
      ".clearml_agent.bkmgjexz.cfg\n",
      ".clearml_agent_daemon_out0v1et8_d.txt\n",
      "requirements_uu2a4f6i.txt\n"
     ]
    }
   ],
   "source": [
    "%%bash\n",
    "ls -a /tmp/ | grep -i 'clearml\\|requirements'\n",
    "# OR equivalently:\n",
    "# ls -a /tmp/ | grep -E -i 'clearml|requirements'"
   ]
  },
  {
   "cell_type": "markdown",
   "metadata": {},
   "source": [
    "```bash\n",
    ".clearmlagent_83894_2cktpmnu.tmp\n",
    ".clearml_agent.bkmgjexz.cfg\n",
    ".clearml_agent_daemon_out0v1et8_d.txt\n",
    "requirements_uu2a4f6i.txt\n",
    "```"
   ]
  },
  {
   "cell_type": "markdown",
   "metadata": {},
   "source": [
    "**Stop the agent:**"
   ]
  },
  {
   "cell_type": "code",
   "execution_count": null,
   "metadata": {},
   "outputs": [],
   "source": [
    "%%bash\n",
    "clearml-agent daemon --stop clearml-agent-bengio:gpu0"
   ]
  },
  {
   "cell_type": "code",
   "execution_count": 18,
   "metadata": {},
   "outputs": [
    {
     "name": "stdout",
     "output_type": "stream",
     "text": [
      "workers:\n",
      "- company:\n",
      "    id: d1bd92a3b039400cbafc60a7a5b1e52b\n",
      "    name: clearml\n",
      "  id: clearml-agent-bengio:gpu0\n",
      "  ip: 172.25.1.1\n",
      "  key: worker_d1bd92a3b039400cbafc60a7a5b1e52b_0f358a174884f2c34ef7def624d3e1a0_clearml-agent-bengio:gpu0\n",
      "  last_activity_time: '2024-09-29T11:03:33.568803+00:00'\n",
      "  last_report_time: '2024-09-29T11:03:33.568803+00:00'\n",
      "  queues:\n",
      "  - id: 6b55ab8e3be4482eb53acfed3e4037a5\n",
      "    name: gpu_dithering\n",
      "    num_tasks: 0\n",
      "  register_time: '2024-09-29T10:25:05.394822+00:00'\n",
      "  register_timeout: 600\n",
      "  system_tags: []\n",
      "  tags: []\n",
      "  user:\n",
      "    id: 0f358a174884f2c34ef7def624d3e1a0\n",
      "    name: RR5555\n",
      "\n"
     ]
    }
   ],
   "source": [
    "%%bash\n",
    "clearml-agent list"
   ]
  },
  {
   "cell_type": "markdown",
   "metadata": {},
   "source": [
    "## Launch an exp. from a public repo.\n",
    "\n",
    "We will:\n",
    "* Launch an agent/worker on a brand new queue: it will wait for a load (created a container? Or container only under load?)\n",
    "* Launch a task from the CLI calling a script from a public GitHub repo\n",
    "* Stop the agent"
   ]
  },
  {
   "cell_type": "code",
   "execution_count": null,
   "metadata": {},
   "outputs": [],
   "source": [
    "%%bash\n",
    "CLEARML_WORKER_NAME=clearml-agent-bengio CLEARML_WORKER_ID=clearml-agent-bengio:gpu0 clearml-agent daemon --detached --queue gpu_dithering --create-queue --gpus 0\n",
    "clearml-task --project Demo --name clearml_test --script test.py --repo https://github.com/RR5555/clearml_demo.git --branch main --queue gpu_dithering --docker rr5555/dith:cuda12.0-agent\n",
    "clearml-agent daemon --stop clearml-agent-bengio:gpu0"
   ]
  },
  {
   "cell_type": "markdown",
   "metadata": {},
   "source": [
    "## Check out on Tasks from Python\n",
    "\n"
   ]
  },
  {
   "cell_type": "markdown",
   "metadata": {},
   "source": [
    "Unfortunately, it seems that, for now (2024/09/18), there is no CLI cmd to monitor the tasks.\\\n",
    "No such things as `clearml-task list`.\n",
    "\n",
    "We thus have to fall back to the python interface: [ClearML -- Accessing Tasks](https://clear.ml/docs/latest/docs/clearml_sdk/task_sdk/#accessing-tasks)"
   ]
  },
  {
   "cell_type": "markdown",
   "metadata": {},
   "source": [
    "[ClearML -- Task get_status](https://clear.ml/docs/latest/docs/references/sdk/task/#get_status):\n",
    "* TaskStatusEnum: [“created”, “in_progress”, “stopped”, “closed”, “failed”, “completed”, “queued”, “published”, “publishing”, “unknown”]"
   ]
  },
  {
   "cell_type": "code",
   "execution_count": 3,
   "metadata": {},
   "outputs": [],
   "source": [
    "from clearml import Task"
   ]
  },
  {
   "cell_type": "markdown",
   "metadata": {},
   "source": [
    "> Do not worry about reruning the import cell above as, if the python module is already loaded, it won't be loaded twice."
   ]
  },
  {
   "cell_type": "markdown",
   "metadata": {},
   "source": [
    "Get all the tasks `in_progress` in the project `Demo`:"
   ]
  },
  {
   "cell_type": "code",
   "execution_count": 4,
   "metadata": {},
   "outputs": [
    {
     "name": "stdout",
     "output_type": "stream",
     "text": [
      "[]\n"
     ]
    }
   ],
   "source": [
    "in_progress_task_list = Task.get_tasks(\n",
    "    task_ids=None,  # type Optional[Sequence[str]]\n",
    "    project_name='Demo',  # Optional[str]\n",
    "    task_name=None,  # Optional[str]\n",
    "    allow_archived=True, # [bool]\n",
    "    task_filter={\n",
    "        'status': ('in_progress',)\n",
    "    },  # Optional[Dict]#\n",
    "    # tasks with tag `included_tag` or without tag `excluded_tag`\n",
    "    tags=None #['included_tag', '-excluded_tag'] \n",
    ")\n",
    "print(f\"Number of `in_progress` task: {len(in_progress_task_list)}\")\n",
    "print(in_progress_task_list)"
   ]
  },
  {
   "cell_type": "markdown",
   "metadata": {},
   "source": [
    "Get the tasks `completed` in project `Demo` ordered by `last_update`:"
   ]
  },
  {
   "cell_type": "code",
   "execution_count": 6,
   "metadata": {},
   "outputs": [
    {
     "name": "stdout",
     "output_type": "stream",
     "text": [
      "Number of `completed` task: 9\n",
      "[<clearml.task.Task object at 0x7cb998089ea0>, <clearml.task.Task object at 0x7cb9c5555900>, <clearml.task.Task object at 0x7cb98d5bb130>, <clearml.task.Task object at 0x7cb98d5bb3a0>, <clearml.task.Task object at 0x7cb98d5e4820>, <clearml.task.Task object at 0x7cb98d5e50c0>, <clearml.task.Task object at 0x7cb98d5e59c0>, <clearml.task.Task object at 0x7cb98d5e6140>, <clearml.task.Task object at 0x7cb98d5e6890>]\n"
     ]
    }
   ],
   "source": [
    "completed_task_list = Task.get_tasks(\n",
    "    task_ids=None,  # type Optional[Sequence[str]]\n",
    "    project_name='Demo',  # Optional[str]\n",
    "    task_name=None,  # Optional[str]\n",
    "    allow_archived=True, # [bool]\n",
    "    task_filter={\n",
    "        'status': ('completed',),\n",
    "        'order_by': ('last_update',)\n",
    "    },  # Optional[Dict]#\n",
    "    # tasks with tag `included_tag` or without tag `excluded_tag`\n",
    "    tags=None #['included_tag', '-excluded_tag'] \n",
    ")\n",
    "print(f\"Number of `completed` task: {len(completed_task_list)}\")\n",
    "print(completed_task_list)"
   ]
  },
  {
   "cell_type": "markdown",
   "metadata": {},
   "source": [
    "### Explore a task INFO panel information"
   ]
  },
  {
   "cell_type": "markdown",
   "metadata": {},
   "source": [
    "Access the information from the `INFO` panel of the clearml GUI from the last task in the previous list:"
   ]
  },
  {
   "cell_type": "code",
   "execution_count": 7,
   "metadata": {},
   "outputs": [],
   "source": [
    "_task = completed_task_list[-1]"
   ]
  },
  {
   "cell_type": "markdown",
   "metadata": {},
   "source": [
    "If you want to explore the fields of the task, just list them `obj.__dir__()` or `dir(obj)`:\n",
    "```python\n",
    "print(_task.__dir__())\n",
    "print(tuple(_field for _field in _task.__dir__() if _field.find('get')>-1))\n",
    "```"
   ]
  },
  {
   "cell_type": "code",
   "execution_count": null,
   "metadata": {},
   "outputs": [],
   "source": [
    "# print(_task.__dir__())\n",
    "# print(tuple(_field for _field in _task.__dir__() if _field.find('get')>-1))\n",
    "print(tuple(_field for _field in _task.__dir__() if _field.find('name')>-1))"
   ]
  },
  {
   "cell_type": "markdown",
   "metadata": {},
   "source": [
    "Let's look at some of the task informative properties:"
   ]
  },
  {
   "cell_type": "code",
   "execution_count": 8,
   "metadata": {},
   "outputs": [
    {
     "data": {
      "text/markdown": [
       "|Cmd|Result|\n",
       "|:---|:---|\n",
       "|`_task.get_reported_console_output()`|`['Process completed successfully']`|\n",
       "|`_task._get_runtime_properties()`|`{'_CLEARML_TASK': True, '_exec_agent_hostname': 'bengio', 'CLEARML VERSION': 'clearml-1.16.4', 'CLI': 'test.py', 'progress': '0', 'platform': 'linux', 'python_version': '3.10.12', 'python_exec': '/home/blissfox-server/.clearml/venvs-builds/3.10/bin/python', 'OS': 'Linux-6.8.0-40-generic-x86_64-with-glibc2.35', 'processor': 'x86_64', 'cpu_cores': 56, 'memory_gb': 62.8, 'hostname': 'bengio', 'gpu_count': 1, 'gpu_type': 'NVIDIA TITAN X (Pascal)', 'gpu_memory': '12GB', 'gpu_driver_version': '535.183.01', 'gpu_driver_cuda_version': '12.2'}`|\n",
       "|`_task.get_tags()`|`[]`|\n",
       "|`_task.get_script()`|`{'working_dir': '.', 'entry_point': 'test.py', 'branch': 'main', 'repository': 'https://github.com/RR5555/clearml_demo.git'}`|\n",
       "|`_task.comment`|`Auto-generated at 2024-09-17 12:23:52 UTC by blissfox-server@bengio`|\n",
       "|`_task.status`|`completed`|\n",
       "|`_task.get_parameters()`|`{}`|\n",
       "|`_task.get_task_output_log_web_page(_task.id)`|`https://app.clearml.blissfox.xyz/projects/*/experiments/5812d0aa235f4858aa1e6c77925f0d3c/output/log`|\n",
       "|`_task.name`|`clearml_test`|\n",
       "|`_task.id`|`5812d0aa235f4858aa1e6c77925f0d3c`|\n",
       "|`_task._project_name`|`('ce6d125a264149bc89e8e62fb1dd0d7a', None)`|\n",
       "|`_task.get_output_destination()`|`None`|\n"
      ],
      "text/plain": [
       "<IPython.core.display.Markdown object>"
      ]
     },
     "metadata": {},
     "output_type": "display_data"
    }
   ],
   "source": [
    "from IPython.display import display, Markdown\n",
    "from collections import OrderedDict\n",
    "\n",
    "_cmds = OrderedDict((\n",
    "            ('_task.get_reported_console_output()', _task.get_reported_console_output()),\n",
    "            ('_task._get_runtime_properties()', _task._get_runtime_properties()),\n",
    "            ('_task.get_tags()', _task.get_tags()),\n",
    "            ('_task.get_script()', _task.get_script()),\n",
    "            ('_task.comment', _task.comment),\n",
    "            ('_task.status', _task.status),\n",
    "            ('_task.get_parameters()', _task.get_parameters()),\n",
    "            ('_task.get_task_output_log_web_page(_task.id)', _task.get_task_output_log_web_page(_task.id)),\n",
    "            ('_task.name', _task.name),\n",
    "            ('_task.id', _task.id),\n",
    "            ('_task._project_name', _task._project_name),\n",
    "            ('_task.get_output_destination()', _task.get_output_destination())\n",
    "))\n",
    "\n",
    "_md_table=\"|Cmd|Result|\\n|:---|:---|\\n\"\n",
    "for _k,_v in _cmds.items():\n",
    "    _md_table += (f\"|`{_k}`|`{_v}`|\\n\")\n",
    "\n",
    "# print(_md_table)\n",
    "\n",
    "# display_markdown(_md_table)\n",
    "display(Markdown(_md_table))\n"
   ]
  },
  {
   "cell_type": "markdown",
   "metadata": {},
   "source": [
    "Output example:\n",
    "\n",
    "<div markdown=1 style=\" overflow-x: auto;\">\n",
    "\n",
    "|Cmd|Result|\n",
    "|:---|:---|\n",
    "|`_task.get_reported_console_output()`|`['Process completed successfully']`|\n",
    "|`_task._get_runtime_properties()`|`{'_CLEARML_TASK': True, '_exec_agent_hostname': 'bengio', 'CLEARML VERSION': 'clearml-1.16.4', 'CLI': 'test.py', 'progress': '0', 'platform': 'linux', 'python_version': '3.10.12', 'python_exec': '/home/blissfox-server/.clearml/venvs-builds/3.10/bin/python', 'OS': 'Linux-6.8.0-40-generic-x86_64-with-glibc2.35', 'processor': 'x86_64', 'cpu_cores': 56, 'memory_gb': 62.8, 'hostname': 'bengio', 'gpu_count': 1, 'gpu_type': 'NVIDIA TITAN X (Pascal)', 'gpu_memory': '12GB', 'gpu_driver_version': '535.183.01', 'gpu_driver_cuda_version': '12.2'}`|\n",
    "|`_task.get_tags()`|`[]`|\n",
    "|`_task.get_script()`|`{'working_dir': '.', 'entry_point': 'test.py', 'branch': 'main', 'repository': 'https://github.com/RR5555/clearml_demo.git'}`|\n",
    "|`_task.comment`|`Auto-generated at 2024-09-17 12:23:52 UTC by blissfox-server@bengio`|\n",
    "|`_task.status`|`completed`|\n",
    "|`_task.get_parameters()`|`{}`|\n",
    "|`_task.get_task_output_log_web_page(_task.id)`|`https://app.clearml.blissfox.xyz/projects/*/experiments/5812d0aa235f4858aa1e6c77925f0d3c/output/log`|\n",
    "|`_task.name`|`clearml_test`|\n",
    "|`_task.id`|`5812d0aa235f4858aa1e6c77925f0d3c`|\n",
    "|`_task._project_name`|`('ce6d125a264149bc89e8e62fb1dd0d7a', None)`|\n",
    "|`_task.get_output_destination()`|`None`|\n",
    "</div>"
   ]
  },
  {
   "cell_type": "code",
   "execution_count": 11,
   "metadata": {},
   "outputs": [
    {
     "name": "stdout",
     "output_type": "stream",
     "text": [
      "<tasks.Task: {\n",
      "    \"id\": \"5812d0aa235f4858aa1e6c77925f0d3c\",\n",
      "    \"name\": \"clearml_test\",\n",
      "    \"user\": \"0f358a174884f2c34ef7def624d3e1a0\",\n",
      "    \"company\": \"d1bd92a3b039400cbafc60a7a5b1e52b\",\n",
      "    \"type\": \"training\",\n",
      "    \"status\": \"completed\",\n",
      "    \"comment\": \"Auto-generated at 2024-09-17 12:23:52 UTC by blissfox-server@bengio\",\n",
      "    \"created\": \"2024-09-17 12:23:52.352000+00:00\",\n",
      "    \"started\": \"2024-09-17 12:23:54.108000+00:00\",\n",
      "    \"completed\": \"2024-09-17 12:28:29.926000+00:00\",\n",
      "    \"active_duration\": 275,\n",
      "    \"project\": \"ce6d125a264149bc89e8e62fb1dd0d7a\",\n",
      "    \"output\": {},\n",
      "    \"execution\": {\n",
      "        \"queue\": \"6b55ab8e3be4482eb53acfed3e4037a5\",\n",
      "        \"parameters\": {},\n",
      "        \"model_desc\": {},\n",
      "        \"model_labels\": {},\n",
      "        \"artifacts\": []\n",
      "    },\n",
      "    \"container\": {\n",
      "        \"image\": \"rr5555/dith:cuda12.0-agent\",\n",
      "        \"arguments\": \"\",\n",
      "        \"setup_shell_script\": \"\"\n",
      "    },\n",
      "    \"models\": {\n",
      "        \"input\": [],\n",
      "        \"output\": []\n",
      "    },\n",
      "    \"script\": {\n",
      "        \"binary\": \"python\",\n",
      "        \"repository\": \"https://github.com/RR5555/clearml_demo.git\",\n",
      "        \"branch\": \"main\",\n",
      "        \"version_num\": \"22c333e75e8c368e563184d567f08d3b3d78d07a\",\n",
      "        \"entry_point\": \"test.py\",\n",
      "        \"working_dir\": \".\",\n",
      "        \"requirements\": {\n",
      "            \"pip\": [\n",
      "                \"absl-py==2.1.0\",\n",
      "                \"attrs==23.2.0\",\n",
      "                \"certifi==2024.8.30\",\n",
      "                \"charset-normalizer==3.3.2\",\n",
      "                \"clearml==1.16.4\",\n",
      "                \"contourpy==1.3.0\",\n",
      "                \"cycler==0.12.1\",\n",
      "                \"Cython==3.0.11\",\n",
      "                \"distlib==0.3.8\",\n",
      "                \"filelock==3.16.0\",\n",
      "                \"fonttools==4.53.1\",\n",
      "                \"fsspec==2024.9.0\",\n",
      "                \"furl==2.1.3\",\n",
      "                \"grpcio==1.66.1\",\n",
      "                \"idna==3.10\",\n",
      "                \"Jinja2==3.1.4\",\n",
      "                \"joblib==1.4.2\",\n",
      "                \"jsonschema==4.23.0\",\n",
      "                \"jsonschema-specifications==2023.12.1\",\n",
      "                \"kiwisolver==1.4.7\",\n",
      "                \"Markdown==3.7\",\n",
      "                \"MarkupSafe==2.1.5\",\n",
      "                \"matplotlib==3.9.2\",\n",
      "                \"mpmath==1.3.0\",\n",
      "                \"networkx==3.3\",\n",
      "                \"numpy==2.1.1\",\n",
      "                \"nvidia-cublas-cu12==12.1.3.1\",\n",
      "                \"nvidia-cuda-cupti-cu12==12.1.105\",\n",
      "                \"nvidia-cuda-nvrtc-cu12==12.1.105\",\n",
      "                \"nvidia-cuda-runtime-cu12==12.1.105\",\n",
      "                \"nvidia-cudnn-cu12==9.1.0.70\",\n",
      "                \"nvidia-cufft-cu12==11.0.2.54\",\n",
      "                \"nvidia-curand-cu12==10.3.2.106\",\n",
      "                \"nvidia-cusolver-cu12==11.4.5.107\",\n",
      "                \"nvidia-cusparse-cu12==12.1.0.106\",\n",
      "                \"nvidia-nccl-cu12==2.20.5\",\n",
      "                \"nvidia-nvjitlink-cu12==12.6.68\",\n",
      "                \"nvidia-nvtx-cu12==12.1.105\",\n",
      "                \"orderedmultidict==1.0.1\",\n",
      "                \"packaging==24.1\",\n",
      "                \"pandas==2.2.2\",\n",
      "                \"pathlib2==2.3.7.post1\",\n",
      "                \"pillow==10.4.0\",\n",
      "                \"platformdirs==4.3.3\",\n",
      "                \"protobuf==5.28.1\",\n",
      "                \"psutil==5.9.8\",\n",
      "                \"PyJWT==2.8.0\",\n",
      "                \"pyparsing==3.1.4\",\n",
      "                \"python-dateutil==2.8.2\",\n",
      "                \"pytz==2024.2\",\n",
      "                \"PyYAML==6.0.2\",\n",
      "                \"referencing==0.35.1\",\n",
      "                \"requests==2.31.0\",\n",
      "                \"rpds-py==0.20.0\",\n",
      "                \"scikit-learn==1.5.2\",\n",
      "                \"scipy==1.14.1\",\n",
      "                \"six==1.16.0\",\n",
      "                \"sympy==1.13.2\",\n",
      "                \"tensorboard==2.17.1\",\n",
      "                \"tensorboard-data-server==0.7.2\",\n",
      "                \"threadpoolctl==3.5.0\",\n",
      "                \"torch==2.4.1+cu121\",\n",
      "                \"torchvision==0.19.1+cu121\",\n",
      "                \"triton==3.0.0\",\n",
      "                \"typing_extensions==4.12.2\",\n",
      "                \"tzdata==2024.1\",\n",
      "                \"urllib3==1.26.20\",\n",
      "                \"virtualenv==20.26.4\",\n",
      "                \"Werkzeug==3.0.4\"\n",
      "            ]\n",
      "        },\n",
      "        \"diff\": \"diff --git a/requirements.txt b/requirements.txt\\n--- a/requirements.txt\\n+++ b/requirements.txt\\n@@ -0,0 +1,1 @@\\n+clearml\\ndiff --git a/test.py b/test.py\\n--- a/test.py\\n+++ b/test.py\\n@@ -0,0 +1,4 @@\\n+try: from allegroai import Task\\n+except ImportError: from clearml import Task\\n+(__name__ != \\\"__main__\\\") or Task.init()\\n+\\n\"\n",
      "    },\n",
      "    \"tags\": [],\n",
      "    \"system_tags\": [],\n",
      "    \"status_changed\": \"2024-09-17 12:28:29.928000+00:00\",\n",
      "    \"status_message\": \"Changed by clearml-agent clearml-agent-bengio:gpu0\",\n",
      "    \"status_reason\": \"worker execution done\",\n",
      "    \"last_worker\": \"clearml-agent-bengio:gpu0\",\n",
      "    \"last_worker_report\": \"2024-09-17 12:28:17.423000+00:00\",\n",
      "    \"last_update\": \"2024-09-17 12:28:29.928000+00:00\",\n",
      "    \"last_change\": \"2024-09-17 12:28:29.928000+00:00\",\n",
      "    \"last_iteration\": 19,\n",
      "    \"last_metrics\": {\n",
      "        \"c4533a5f878d2fe1864fb9d4d5046e05\": {\n",
      "            \"c4533a5f878d2fe1864fb9d4d5046e05\": {\n",
      "                \"metric\": \"y=2x\",\n",
      "                \"variant\": \"y=2x\",\n",
      "                \"value\": 38.0,\n",
      "                \"min_value\": 0.0,\n",
      "                \"min_value_iteration\": 0,\n",
      "                \"max_value\": 38.0,\n",
      "                \"max_value_iteration\": 19\n",
      "            }\n",
      "        },\n",
      "        \"29c6dd717a649f7c1835bfa9249b3142\": {\n",
      "            \"028d9091618657f296222d768c3dd9b8\": {\n",
      "                \"metric\": \":monitor:machine\",\n",
      "                \"variant\": \"network_rx_mbs\",\n",
      "                \"value\": 0.078,\n",
      "                \"min_value\": 0.078,\n",
      "                \"min_value_iteration\": 19,\n",
      "                \"max_value\": 0.078,\n",
      "                \"max_value_iteration\": 19\n",
      "            },\n",
      "            \"1a760266c35f86529f9c669d539a2297\": {\n",
      "                \"metric\": \":monitor:machine\",\n",
      "                \"variant\": \"io_read_mbs\",\n",
      "                \"value\": 0.187,\n",
      "                \"min_value\": 0.187,\n",
      "                \"min_value_iteration\": 19,\n",
      "                \"max_value\": 0.187,\n",
      "                \"max_value_iteration\": 19\n",
      "            },\n",
      "            \"22db6a87b76b02b50d0a8c54879484ce\": {\n",
      "                \"metric\": \":monitor:machine\",\n",
      "                \"variant\": \"io_write_mbs\",\n",
      "                \"value\": 111.229,\n",
      "                \"min_value\": 111.229,\n",
      "                \"min_value_iteration\": 19,\n",
      "                \"max_value\": 111.229,\n",
      "                \"max_value_iteration\": 19\n",
      "            },\n",
      "            \"3964adf302d5c935e9a2451b45bd53a5\": {\n",
      "                \"metric\": \":monitor:machine\",\n",
      "                \"variant\": \"memory_free_gb\",\n",
      "                \"value\": 59.627,\n",
      "                \"min_value\": 59.627,\n",
      "                \"min_value_iteration\": 19,\n",
      "                \"max_value\": 59.627,\n",
      "                \"max_value_iteration\": 19\n",
      "            },\n",
      "            \"5385df90d0d0ad8955159a5307d34b38\": {\n",
      "                \"metric\": \":monitor:machine\",\n",
      "                \"variant\": \"cpu_usage\",\n",
      "                \"value\": 1.923,\n",
      "                \"min_value\": 1.923,\n",
      "                \"min_value_iteration\": 19,\n",
      "                \"max_value\": 1.923,\n",
      "                \"max_value_iteration\": 19\n",
      "            },\n",
      "            \"5d2e34a3c7e733e0549fa6d9c9666ce3\": {\n",
      "                \"metric\": \":monitor:machine\",\n",
      "                \"variant\": \"network_tx_mbs\",\n",
      "                \"value\": 0.003,\n",
      "                \"min_value\": 0.003,\n",
      "                \"min_value_iteration\": 19,\n",
      "                \"max_value\": 0.003,\n",
      "                \"max_value_iteration\": 19\n",
      "            },\n",
      "            \"7e44abd211aa00a7c3bf5090fb33df90\": {\n",
      "                \"metric\": \":monitor:machine\",\n",
      "                \"variant\": \"memory_used_gb\",\n",
      "                \"value\": 0.381,\n",
      "                \"min_value\": 0.381,\n",
      "                \"min_value_iteration\": 19,\n",
      "                \"max_value\": 0.381,\n",
      "                \"max_value_iteration\": 19\n",
      "            },\n",
      "            \"bd04514a2d2b5bd8ae2ec5717ad8e317\": {\n",
      "                \"metric\": \":monitor:machine\",\n",
      "                \"variant\": \"cpu_temperature\",\n",
      "                \"value\": 29.107,\n",
      "                \"min_value\": 29.107,\n",
      "                \"min_value_iteration\": 19,\n",
      "                \"max_value\": 29.107,\n",
      "                \"max_value_iteration\": 19\n",
      "            },\n",
      "            \"f4f4fd050d744fb78fc0bb7b5a2a9f99\": {\n",
      "                \"metric\": \":monitor:machine\",\n",
      "                \"variant\": \"disk_free_percent\",\n",
      "                \"value\": 57.5,\n",
      "                \"min_value\": 57.5,\n",
      "                \"min_value_iteration\": 19,\n",
      "                \"max_value\": 57.5,\n",
      "                \"max_value_iteration\": 19\n",
      "            }\n",
      "        },\n",
      "        \"5451af93e0bf68a4ab09f654b222ccae\": {\n",
      "            \"1b790a3da2e8d6cd939cf271694fe81b\": {\n",
      "                \"metric\": \":monitor:gpu\",\n",
      "                \"variant\": \"gpu_0_utilization\",\n",
      "                \"value\": 0.036,\n",
      "                \"min_value\": 0.036,\n",
      "                \"min_value_iteration\": 19,\n",
      "                \"max_value\": 0.036,\n",
      "                \"max_value_iteration\": 19\n",
      "            },\n",
      "            \"409d4e6ad9b69b3224fceeac6e265ddc\": {\n",
      "                \"metric\": \":monitor:gpu\",\n",
      "                \"variant\": \"gpu_0_mem_used_gb\",\n",
      "                \"value\": 0.0,\n",
      "                \"min_value\": 0.0,\n",
      "                \"min_value_iteration\": 19,\n",
      "                \"max_value\": 0.0,\n",
      "                \"max_value_iteration\": 19\n",
      "            },\n",
      "            \"74646afee0e0ab18d3cbd08ce1ff6aa3\": {\n",
      "                \"metric\": \":monitor:gpu\",\n",
      "                \"variant\": \"gpu_0_mem_usage\",\n",
      "                \"value\": 2.1,\n",
      "                \"min_value\": 2.1,\n",
      "                \"min_value_iteration\": 19,\n",
      "                \"max_value\": 2.1,\n",
      "                \"max_value_iteration\": 19\n",
      "            },\n",
      "            \"abdb01e1de566d2165e902fe0839465e\": {\n",
      "                \"metric\": \":monitor:gpu\",\n",
      "                \"variant\": \"gpu_0_mem_free_gb\",\n",
      "                \"value\": 11.748,\n",
      "                \"min_value\": 11.748,\n",
      "                \"min_value_iteration\": 19,\n",
      "                \"max_value\": 11.748,\n",
      "                \"max_value_iteration\": 19\n",
      "            },\n",
      "            \"db472ace8c40b8a9f3e11ec348920662\": {\n",
      "                \"metric\": \":monitor:gpu\",\n",
      "                \"variant\": \"gpu_0_temperature\",\n",
      "                \"value\": 31.571,\n",
      "                \"min_value\": 31.571,\n",
      "                \"min_value_iteration\": 19,\n",
      "                \"max_value\": 31.571,\n",
      "                \"max_value_iteration\": 19\n",
      "            }\n",
      "        }\n",
      "    },\n",
      "    \"hyperparams\": {},\n",
      "    \"configuration\": {},\n",
      "    \"runtime\": {\n",
      "        \"_CLEARML_TASK\": true,\n",
      "        \"_exec_agent_hostname\": \"bengio\",\n",
      "        \"CLEARML VERSION\": \"clearml-1.16.4\",\n",
      "        \"CLI\": \"test.py\",\n",
      "        \"progress\": \"0\",\n",
      "        \"platform\": \"linux\",\n",
      "        \"python_version\": \"3.10.12\",\n",
      "        \"python_exec\": \"/home/blissfox-server/.clearml/venvs-builds/3.10/bin/python\",\n",
      "        \"OS\": \"Linux-6.8.0-40-generic-x86_64-with-glibc2.35\",\n",
      "        \"processor\": \"x86_64\",\n",
      "        \"cpu_cores\": 56,\n",
      "        \"memory_gb\": 62.8,\n",
      "        \"hostname\": \"bengio\",\n",
      "        \"gpu_count\": 1,\n",
      "        \"gpu_type\": \"NVIDIA TITAN X (Pascal)\",\n",
      "        \"gpu_memory\": \"12GB\",\n",
      "        \"gpu_driver_version\": \"535.183.01\",\n",
      "        \"gpu_driver_cuda_version\": \"12.2\"\n",
      "    }\n",
      "}>\n",
      "['__class__', '__delattr__', '__dict__', '__dir__', '__doc__', '__eq__', '__format__', '__ge__', '__getattribute__', '__gt__', '__hash__', '__init__', '__init_subclass__', '__le__', '__lt__', '__module__', '__ne__', '__new__', '__reduce__', '__reduce_ex__', '__repr__', '__setattr__', '__sizeof__', '__str__', '__subclasshook__', '__weakref__', '_data_props_list', '_get_data_props', '_property_active_duration', '_property_comment', '_property_company', '_property_completed', '_property_configuration', '_property_container', '_property_created', '_property_execution', '_property_hyperparams', '_property_id', '_property_last_change', '_property_last_iteration', '_property_last_metrics', '_property_last_update', '_property_last_worker', '_property_last_worker_report', '_property_models', '_property_name', '_property_output', '_property_parent', '_property_project', '_property_published', '_property_runtime', '_property_script', '_property_started', '_property_status', '_property_status_changed', '_property_status_message', '_property_status_reason', '_property_system_tags', '_property_tags', '_property_type', '_property_user', '_schema', '_to_base_type', 'active_duration', 'assert_isinstance', 'comment', 'company', 'completed', 'configuration', 'container', 'created', 'execution', 'from_dict', 'hyperparams', 'id', 'last_change', 'last_iteration', 'last_metrics', 'last_update', 'last_worker', 'last_worker_report', 'models', 'name', 'normalize_key', 'output', 'parent', 'project', 'published', 'runtime', 'script', 'started', 'status', 'status_changed', 'status_message', 'status_reason', 'system_tags', 'tags', 'to_dict', 'type', 'user', 'validate']\n"
     ]
    }
   ],
   "source": [
    "print(_task.data)"
   ]
  },
  {
   "cell_type": "code",
   "execution_count": null,
   "metadata": {},
   "outputs": [],
   "source": [
    "print(dir(_task.data))"
   ]
  },
  {
   "cell_type": "code",
   "execution_count": 65,
   "metadata": {},
   "outputs": [],
   "source": [
    "# https://stackoverflow.com/a/50215584/8612123\n",
    "\n",
    "def print_table(data, cols, wide):\n",
    "    '''Prints formatted data on columns of given width.'''\n",
    "    n, r = divmod(len(data), cols)\n",
    "    pat = '{{:{}}}'.format(wide)\n",
    "    line = '\\n'.join(pat * cols for _ in range(n))\n",
    "    last_line = pat * r\n",
    "    print(line.format(*data))\n",
    "    print(last_line.format(*data[n*cols:]))"
   ]
  },
  {
   "cell_type": "code",
   "execution_count": 66,
   "metadata": {},
   "outputs": [
    {
     "name": "stdout",
     "output_type": "stream",
     "text": [
      "__class__                 __delattr__               __dict__                  __dir__                   \n",
      "__doc__                   __eq__                    __format__                __ge__                    \n",
      "__getattribute__          __gt__                    __hash__                  __init__                  \n",
      "__init_subclass__         __le__                    __lt__                    __module__                \n",
      "__ne__                    __new__                   __reduce__                __reduce_ex__             \n",
      "__repr__                  __setattr__               __sizeof__                __str__                   \n",
      "__subclasshook__          __weakref__               _data_props_list          _get_data_props           \n",
      "_property_active_duration _property_comment         _property_company         _property_completed       \n",
      "_property_configuration   _property_container       _property_created         _property_execution       \n",
      "_property_hyperparams     _property_id              _property_last_change     _property_last_iteration  \n",
      "_property_last_metrics    _property_last_update     _property_last_worker     _property_last_worker_report\n",
      "_property_models          _property_name            _property_output          _property_parent          \n",
      "_property_project         _property_published       _property_runtime         _property_script          \n",
      "_property_started         _property_status          _property_status_changed  _property_status_message  \n",
      "_property_status_reason   _property_system_tags     _property_tags            _property_type            \n",
      "_property_user            _schema                   _to_base_type             active_duration           \n",
      "assert_isinstance         comment                   company                   completed                 \n",
      "configuration             container                 created                   execution                 \n",
      "from_dict                 hyperparams               id                        last_change               \n",
      "last_iteration            last_metrics              last_update               last_worker               \n",
      "last_worker_report        models                    name                      normalize_key             \n",
      "output                    parent                    project                   published                 \n",
      "runtime                   script                    started                   status                    \n",
      "status_changed            status_message            status_reason             system_tags               \n",
      "tags                      to_dict                   type                      user                      \n",
      "validate                  \n"
     ]
    }
   ],
   "source": [
    "print_table(dir(_task.data), 4, len(dir(_task.data))//4+1)"
   ]
  },
  {
   "cell_type": "code",
   "execution_count": 67,
   "metadata": {},
   "outputs": [],
   "source": [
    "def get_instance_field(_obj, _class):\n",
    "\treturn tuple(_field for _field in dir(_obj) if not callable(getattr(_obj, _field)) and isinstance(getattr(_obj, _field), _class))"
   ]
  },
  {
   "cell_type": "code",
   "execution_count": 70,
   "metadata": {},
   "outputs": [],
   "source": [
    "from pprint import pprint\n",
    "import datetime"
   ]
  },
  {
   "cell_type": "code",
   "execution_count": 71,
   "metadata": {},
   "outputs": [
    {
     "name": "stdout",
     "output_type": "stream",
     "text": [
      "('_property_completed',\n",
      " '_property_created',\n",
      " '_property_last_change',\n",
      " '_property_last_update',\n",
      " '_property_last_worker_report',\n",
      " '_property_started',\n",
      " '_property_status_changed',\n",
      " 'completed',\n",
      " 'created',\n",
      " 'last_change',\n",
      " 'last_update',\n",
      " 'last_worker_report',\n",
      " 'started',\n",
      " 'status_changed')\n"
     ]
    }
   ],
   "source": [
    "pprint(get_instance_field(_task.data, datetime.datetime))"
   ]
  },
  {
   "cell_type": "code",
   "execution_count": 72,
   "metadata": {},
   "outputs": [
    {
     "name": "stdout",
     "output_type": "stream",
     "text": [
      "('__doc__',\n",
      " '__module__',\n",
      " '_property_comment',\n",
      " '_property_company',\n",
      " '_property_id',\n",
      " '_property_last_worker',\n",
      " '_property_name',\n",
      " '_property_project',\n",
      " '_property_status_message',\n",
      " '_property_status_reason',\n",
      " '_property_user',\n",
      " 'comment',\n",
      " 'company',\n",
      " 'id',\n",
      " 'last_worker',\n",
      " 'name',\n",
      " 'project',\n",
      " 'status_message',\n",
      " 'status_reason',\n",
      " 'user')\n"
     ]
    }
   ],
   "source": [
    "pprint(get_instance_field(_task.data, str))"
   ]
  },
  {
   "cell_type": "code",
   "execution_count": 73,
   "metadata": {},
   "outputs": [
    {
     "name": "stdout",
     "output_type": "stream",
     "text": [
      "('__dict__',\n",
      " '_data_props_list',\n",
      " '_property_configuration',\n",
      " '_property_container',\n",
      " '_property_hyperparams',\n",
      " '_property_last_metrics',\n",
      " '_property_runtime',\n",
      " '_schema',\n",
      " 'configuration',\n",
      " 'container',\n",
      " 'hyperparams',\n",
      " 'last_metrics',\n",
      " 'runtime')\n"
     ]
    }
   ],
   "source": [
    "pprint(get_instance_field(_task.data, dict))"
   ]
  },
  {
   "cell_type": "code",
   "execution_count": 75,
   "metadata": {},
   "outputs": [
    {
     "name": "stdout",
     "output_type": "stream",
     "text": [
      "72 101\n"
     ]
    }
   ],
   "source": [
    "nb_fields = len(tuple(_field for _field in dir(_task.data) if not callable(getattr(_task.data, _field))))\n",
    "\n",
    "print(nb_fields, len(_task.data.__dir__()))"
   ]
  },
  {
   "cell_type": "markdown",
   "metadata": {},
   "source": [
    "#### Play with time"
   ]
  },
  {
   "cell_type": "code",
   "execution_count": 21,
   "metadata": {},
   "outputs": [],
   "source": [
    "import datetime"
   ]
  },
  {
   "cell_type": "code",
   "execution_count": 68,
   "metadata": {},
   "outputs": [
    {
     "name": "stdout",
     "output_type": "stream",
     "text": [
      "_property_completed\n",
      "_property_created\n",
      "_property_last_change\n",
      "_property_last_update\n",
      "_property_last_worker_report\n",
      "_property_started\n",
      "_property_status_changed\n",
      "completed      \n",
      "created        \n",
      "last_change    \n",
      "last_update    \n",
      "last_worker_report\n",
      "started        \n",
      "status_changed \n",
      "\n"
     ]
    }
   ],
   "source": [
    "datetime_fields = get_instance_field(_task.data, datetime.datetime)\n",
    "\n",
    "print_table(datetime_fields, 1, len(datetime_fields)//1+1)"
   ]
  },
  {
   "cell_type": "code",
   "execution_count": 22,
   "metadata": {},
   "outputs": [
    {
     "name": "stdout",
     "output_type": "stream",
     "text": [
      "`type(_task.data.created)`: <class 'datetime.datetime'>\n",
      "Created at: 2024-09-17 12:23:52.352000+00:00\n"
     ]
    }
   ],
   "source": [
    "print(f\"`type(_task.data.created)`: {type(_task.data.created)}\")\n",
    "print(f\"Created at: {_task.data.created}\")"
   ]
  },
  {
   "cell_type": "markdown",
   "metadata": {},
   "source": [
    "To compare dates in `datetime.datetime`, we can use:\n",
    "* Now: `datetime.datetime.now(tz=_task.data.created.tzinfo)`\n",
    "* Deltas (7 days): `datetime.timedelta(days=7)`\n",
    "* 7 days ago: `datetime.datetime.now(tz=_task.data.created.tzinfo) - datetime.timedelta(days=7)`"
   ]
  },
  {
   "cell_type": "code",
   "execution_count": 24,
   "metadata": {},
   "outputs": [
    {
     "name": "stdout",
     "output_type": "stream",
     "text": [
      "Now: 2024-09-26 13:57:00.594638+00:00\n",
      "7 days ago: 2024-09-19 13:57:00.594898+00:00\n"
     ]
    }
   ],
   "source": [
    "print(f\"Now: {datetime.datetime.now(tz=_task.data.created.tzinfo)}\")\n",
    "print(f\"7 days ago: {datetime.datetime.now(tz=_task.data.created.tzinfo) - datetime.timedelta(days=7)}\")"
   ]
  },
  {
   "cell_type": "code",
   "execution_count": 27,
   "metadata": {},
   "outputs": [
    {
     "name": "stdout",
     "output_type": "stream",
     "text": [
      "Was the last exp. created in the last 7 days: No\n"
     ]
    }
   ],
   "source": [
    "print(f\"Was the last exp. created in the last 7 days: {'Yes' if (_task.data.created> datetime.datetime.now(tz=_task.data.created.tzinfo) - datetime.timedelta(days=7)) else 'No'}\")"
   ]
  },
  {
   "cell_type": "code",
   "execution_count": 37,
   "metadata": {},
   "outputs": [],
   "source": [
    "def get_exps_from_last(_list, _days):\n",
    "\treturn tuple(_task for _task in _list if _task.data.created> datetime.datetime.now(tz=_task.data.created.tzinfo) - datetime.timedelta(days=_days))"
   ]
  },
  {
   "cell_type": "code",
   "execution_count": 38,
   "metadata": {},
   "outputs": [
    {
     "name": "stdout",
     "output_type": "stream",
     "text": [
      "Exp. in the last two months: 1\n",
      "Exp. in the last year: 9\n"
     ]
    }
   ],
   "source": [
    "print(f\"Exp. in the last two months: {len(get_exps_from_last(completed_task_list, 60))}\")\n",
    "print(f\"Exp. in the last year: {len(get_exps_from_last(completed_task_list, 365))}\")"
   ]
  },
  {
   "cell_type": "markdown",
   "metadata": {},
   "source": [
    "## Launch an exp. from a private repo.\n",
    "\n",
    "We will:\n",
    "* Launch an agent/worker on a brand new queue: it will wait for a load (created a container? Or container only under load?)\n",
    "* Launch a task from the CLI calling a script from a public GitHub repo\n",
    "* Stop the agent"
   ]
  },
  {
   "cell_type": "markdown",
   "metadata": {},
   "source": [
    "**Create a Personal Access Token (PAT)**\n",
    "\n",
    "<details>\n",
    "<summary>Click to expand</summary>\n",
    "\n",
    "To create a PAT, heads to `Settings`>`Developer settings`>`Personnal access tokens`>`Fine-grained tokens`, or click on the link below:\\\n",
    "https://github.com/settings/personal-access-tokens/new\n",
    "\n",
    "This will lead you to this page:\\\n",
    "<img src=\"../img/new_PAT0.png\" style=\"\">\\\n",
    "Enter the `Token name`, `Expiration` & `Description`.\n",
    "\n",
    "Select the repos you want the token to apply for:\\\n",
    "<img src=\"../img/new_PAT1.png\" style=\"\">\n",
    "\n",
    "Choose the `Permissions`:\n",
    "<img src=\"../img/new_PAT2.png\" style=\"\">\n",
    "\n",
    "I only added the `Contents`:`Access: Read-only` (in addition to the default compulsory Metadata access):\\\n",
    "<img src=\"../img/new_PAT3.png\" style=\"\">\n",
    "\n",
    "You can check out the permissions you will give in `Overview`:\\\n",
    "<img src=\"../img/new_PAT4.png\" style=\"\">\\\n",
    "Then confirm by `Generate token`.\n",
    "\n",
    "You can now copy the token to where you will need it (you can only do it now, if you did not, you will have to regenerate the token, to copy the new one):\\\n",
    "<img src=\"../img/new_PAT5.png\" style=\"\">\n",
    "\n",
    "</details>"
   ]
  },
  {
   "cell_type": "markdown",
   "metadata": {},
   "source": [
    "To pass down the PAT, either configure in the default clearml-agent configs, or pass it down at agent creation:"
   ]
  },
  {
   "cell_type": "code",
   "execution_count": null,
   "metadata": {},
   "outputs": [
    {
     "name": "stdout",
     "output_type": "stream",
     "text": [
      "ClearML launch - launch any codebase on remote machine running clearml-agent\n",
      "Creating new task\n",
      "Repository Detected\n",
      "{\n",
      "  \"repository\": \"https://github.com/RR5555/clearml_demo_private.git\",\n",
      "  \"branch\": \"main\",\n",
      "  \"working_dir\": \".\",\n",
      "  \"entry_point\": \"test.py\"\n",
      "}\n",
      "Base docker image: {'image': 'rr5555/dith:cuda12.0-agent', 'args': None, 'bash_script': None}\n",
      "New task created id=d12f6da8220c46269c939c2040e71f97\n",
      "Task id=d12f6da8220c46269c939c2040e71f97 sent for execution on queue gpu_dithering\n",
      "Execution log at: https://app.clearml.blissfox.xyz/projects/ce6d125a264149bc89e8e62fb1dd0d7a/experiments/d12f6da8220c46269c939c2040e71f97/output/log\n"
     ]
    }
   ],
   "source": [
    "%%bash\n",
    "CLEARML_AGENT_GIT_USER=\"rr5555\" CLEARML_AGENT_GIT_PASS=`cat ../pat.txt` CLEARML_WORKER_NAME=clearml-agent-bengio CLEARML_WORKER_ID=clearml-agent-bengio:gpu1 clearml-agent daemon --detached --queue gpu_dithering --create-queue --gpus 1\n",
    "clearml-task --project Demo --name clearml_test --script test.py --repo https://github.com/RR5555/clearml_demo_private.git --branch main --queue gpu_dithering --docker rr5555/dith:cuda12.0-agent\n",
    "clearml-agent daemon --stop clearml-agent-bengio:gpu1"
   ]
  },
  {
   "cell_type": "markdown",
   "metadata": {},
   "source": [
    "Trying to directly run the experiment will fail as the repo is private and no PAT for it is passed:"
   ]
  },
  {
   "cell_type": "code",
   "execution_count": null,
   "metadata": {},
   "outputs": [],
   "source": [
    "%%bash\n",
    "CLEARML_WORKER_NAME=clearml-agent-bengio CLEARML_WORKER_ID=clearml-agent-bengio:gpu0 clearml-agent daemon --detached --queue gpu_dithering --create-queue --gpus 0\n",
    "clearml-task --project Demo --name clearml_test --script test.py --repo https://github.com/RR5555/clearml_demo_private.git --branch main --queue gpu_dithering --docker rr5555/dith:cuda12.0-agent\n",
    "clearml-agent daemon --stop clearml-agent-bengio:gpu0"
   ]
  },
  {
   "cell_type": "markdown",
   "metadata": {},
   "source": [
    "It should also be noted that passing it down to `clearml-task` either as env. vars or docker env. vars will fail too:"
   ]
  },
  {
   "cell_type": "code",
   "execution_count": 16,
   "metadata": {},
   "outputs": [
    {
     "name": "stdout",
     "output_type": "stream",
     "text": [
      "ClearML launch - launch any codebase on remote machine running clearml-agent\n",
      "Creating new task\n",
      "Repository Detected\n",
      "{\n",
      "  \"repository\": \"https://github.com/RR5555/clearml_demo_private.git\",\n",
      "  \"branch\": \"main\",\n",
      "  \"working_dir\": \".\",\n",
      "  \"entry_point\": \"test.py\"\n",
      "}\n",
      "Base docker image: {'image': 'rr5555/dith:cuda12.0-agent', 'args': None, 'bash_script': None}\n",
      "New task created id=aacc308dc02941c7aa9fd33ed0eee746\n",
      "Task id=aacc308dc02941c7aa9fd33ed0eee746 sent for execution on queue gpu_dithering\n",
      "Execution log at: https://app.clearml.blissfox.xyz/projects/ce6d125a264149bc89e8e62fb1dd0d7a/experiments/aacc308dc02941c7aa9fd33ed0eee746/output/log\n"
     ]
    }
   ],
   "source": [
    "%%bash\n",
    "CLEARML_WORKER_NAME=clearml-agent-bengio CLEARML_WORKER_ID=clearml-agent-bengio:gpu0 clearml-agent daemon --detached --queue gpu_dithering --create-queue --gpus 0\n",
    "CLEARML_AGENT_GIT_USER=\"rr5555\" CLEARML_AGENT_GIT_PASS=`cat ../pat.txt` clearml-task --project Demo --name clearml_test --script test.py --repo https://github.com/RR5555/clearml_demo_private.git --branch main --queue gpu_dithering --docker rr5555/dith:cuda12.0-agent\n",
    "clearml-agent daemon --stop clearml-agent-bengio:gpu0"
   ]
  },
  {
   "cell_type": "code",
   "execution_count": null,
   "metadata": {},
   "outputs": [],
   "source": [
    "%%bash\n",
    "CLEARML_WORKER_NAME=clearml-agent-bengio CLEARML_WORKER_ID=clearml-agent-bengio:gpu0 clearml-agent daemon --detached --queue gpu_dithering --create-queue --gpus 0\n",
    "clearml-task --project Demo --name clearml_test --script test.py --repo https://github.com/RR5555/clearml_demo_private.git --branch main --queue gpu_dithering --docker rr5555/dith:cuda12.0-agent --docker_args \"-v CLEARML_AGENT_GIT_USER:rr5555 -v CLEARML_AGENT_GIT_PASS:`cat ../pat.txt`\"\n",
    "clearml-agent daemon --stop clearml-agent-bengio:gpu0"
   ]
  },
  {
   "cell_type": "markdown",
   "metadata": {},
   "source": [
    "```bash\n",
    "make launch-agents\n",
    "make pipeline-from-functions\n",
    "make pipeline-from-decorator\n",
    "\n",
    "make create-tasks-for-pipeline\n",
    "make pipeline-from-tasks\n",
    "\n",
    "make stop-agents\n",
    "```"
   ]
  },
  {
   "cell_type": "markdown",
   "metadata": {},
   "source": [
    "https://clear.ml/docs/latest/docs/configs/clearml_conf/\n",
    "\n",
    "agent.docker_use_activated_venv (bool)"
   ]
  }
 ],
 "metadata": {
  "kernelspec": {
   "display_name": "venv_jupyter",
   "language": "python",
   "name": "python3"
  },
  "language_info": {
   "codemirror_mode": {
    "name": "ipython",
    "version": 3
   },
   "file_extension": ".py",
   "mimetype": "text/x-python",
   "name": "python",
   "nbconvert_exporter": "python",
   "pygments_lexer": "ipython3",
   "version": "3.10.12"
  }
 },
 "nbformat": 4,
 "nbformat_minor": 2
}
