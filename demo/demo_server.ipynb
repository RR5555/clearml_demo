{
 "cells": [
  {
   "cell_type": "markdown",
   "metadata": {},
   "source": [
    "# On the server side"
   ]
  },
  {
   "cell_type": "markdown",
   "metadata": {},
   "source": [
    "Required:\n",
    "* Having installed and set up the clearml-server (cf. [Self-hosted ClearML Server behind a firewall -- Setting up a ClearML Server on a Linux host behind a firewall](https://red.blissfox.xyz/blog/2024/clearml-server/))\n",
    "* Running the clearml-server (See Launching & Checking below)\n",
    "\n",
    "A Python interpreter with `ipykernel` installed.\n",
    "\n",
    "> To create a venv:\n",
    "> ```bash\n",
    "> ~/Documents/VENV$ python -m venv ./venv_ipynb\n",
    "> ```\n",
    "> Requires `python-3.10-venv` or equivalent for used python version:\n",
    "> ```bash\n",
    "> sudo apt install python3.10-venv\n",
    "> ```\n",
    "\n",
    "> `Ctrl`+`Shift`+`P`: `Python: Select Interpreter`\\\n",
    "> Then, select kernel for ipynb in VSCode."
   ]
  },
  {
   "cell_type": "markdown",
   "metadata": {},
   "source": [
    "## Launching clearml-server"
   ]
  },
  {
   "cell_type": "code",
   "execution_count": null,
   "metadata": {},
   "outputs": [],
   "source": [
    "!docker compose -f /opt/clearml/docker-compose.yml up -d"
   ]
  },
  {
   "cell_type": "markdown",
   "metadata": {},
   "source": [
    "```bash\n",
    "~$ docker compose -f /opt/clearml/docker-compose.yml up -d\n",
    "...\n",
    "WARN[0000] The \"CLEARML_HOST_IP\" variable is not set. Defaulting to a blank string. \n",
    "WARN[0000] The \"CLEARML_AGENT_GIT_PASS\" variable is not set. Defaulting to a blank string. \n",
    "WARN[0000] The \"CLEARML_AGENT_GIT_USER\" variable is not set. Defaulting to a blank string. \n",
    "WARN[0000] The \"ELASTIC_PASSWORD\" variable is not set. Defaulting to a blank string. \n",
    "WARN[0000] The \"ELASTIC_PASSWORD\" variable is not set. Defaulting to a blank string. \n",
    "WARN[0000] The \"ELASTIC_PASSWORD\" variable is not set. Defaulting to a blank string. \n",
    "nning 1/0\n",
    " ✔ Network clearml-server_frontend  C...                                   0.1s \n",
    " ⠋ Network clearml-server_backend   Cr...                                  0.0s \n",
    "[+] Running 2/2\n",
    " ✔ Network clearml-server_frontend  C...                                   0.1s \n",
    " ✔ Network clearml-server_backend   Cr...                                  0.1s \n",
    " ⠋ Container clearml-mongo          Creating                               0.0s \n",
    " ⠋ Container clearml-redis          Creating                               0.0s \n",
    " ⠋ Container clearml-elastic        Creatin...                             0.0s \n",
    " ⠋ Container clearml-fileserver     Crea...                                0.0s \n",
    "[+] Running 6/6\n",
    " ✔ Network clearml-server_frontend  C...                                   0.1s \n",
    " ✔ Network clearml-server_backend   Cr...                                  0.1s \n",
    " ✔ Container clearml-mongo          Created                                0.1s \n",
    " ✔ Container clearml-redis          Created                                0.1s \n",
    " ✔ Container clearml-elastic        Created                                0.1s \n",
    " ✔ Container clearml-fileserver     Crea...                                0.1s \n",
    " ⠋ Container clearml-apiserver      Creat...                               0.0s \n",
    "nning 6/7\n",
    "...\n",
    " ✔ Container clearml-apiserver       Star...                               0.7s \n",
    " ✔ Container clearml-webserver       Star...                               1.0s \n",
    " ✔ Container clearml-agent-services  Started                               1.0s \n",
    " ✔ Container async_delete            Started                               1.0s \n",
    "```"
   ]
  },
  {
   "cell_type": "markdown",
   "metadata": {},
   "source": [
    "## Checking clearml-server is running"
   ]
  },
  {
   "cell_type": "code",
   "execution_count": null,
   "metadata": {},
   "outputs": [],
   "source": [
    "!docker compose ls"
   ]
  },
  {
   "cell_type": "markdown",
   "metadata": {},
   "source": [
    "```bash\n",
    "~$ docker compose ls\n",
    "NAME                STATUS              CONFIG FILES\n",
    "clearml-server      running(7)          /opt/clearml/docker-compose.yml\n",
    "```"
   ]
  },
  {
   "cell_type": "markdown",
   "metadata": {},
   "source": [
    "## Stopping clearml-server"
   ]
  },
  {
   "cell_type": "code",
   "execution_count": null,
   "metadata": {},
   "outputs": [],
   "source": [
    "!docker compose -p clearml-server down"
   ]
  },
  {
   "cell_type": "markdown",
   "metadata": {},
   "source": [
    "```bash\n",
    "~$ docker compose -p clearml-server down\n",
    "...\n",
    "[+] Running 10/10\n",
    " ✔ Container clearml-webserver       Remo...                              10.4s \n",
    " ✔ Container async_delete            Removed                              10.2s \n",
    " ✔ Container clearml-agent-services  Removed                               0.0s \n",
    " ✔ Container clearml-apiserver       Remo...                              10.4s \n",
    " ✔ Container clearml-mongo           Removed                               0.2s \n",
    " ✔ Container clearml-fileserver      Rem...                               10.5s \n",
    " ✔ Container clearml-redis           Removed                               0.2s \n",
    " ✔ Container clearml-elastic         Remove...                             0.7s \n",
    " ✔ Network clearml-server_frontend   Removed                               0.2s \n",
    " ✔ Network clearml-server_backend    R...                                  0.5s \n",
    "```"
   ]
  }
 ],
 "metadata": {
  "language_info": {
   "name": "python"
  }
 },
 "nbformat": 4,
 "nbformat_minor": 2
}
