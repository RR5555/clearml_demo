{
 "cells": [
  {
   "cell_type": "markdown",
   "metadata": {},
   "source": [
    "Clearml Demo\n",
    "---\n",
    "\n"
   ]
  },
  {
   "cell_type": "code",
   "execution_count": 1,
   "metadata": {
    "tags": [
     "hide_input",
     "hide-input",
     "hide_source",
     "hide-source"
    ]
   },
   "outputs": [
    {
     "data": {
      "application/vnd.jupyter.widget-view+json": {
       "model_id": "52d77a739087409bb0bbc8dcb4cebf7d",
       "version_major": 2,
       "version_minor": 0
      },
      "text/plain": [
       "ToggleButtons(description='Side:', options=('Client', 'Server'), tooltips=('Client-side', 'Server-side'), valu…"
      ]
     },
     "metadata": {},
     "output_type": "display_data"
    }
   ],
   "source": [
    "from IPython.core.magic import register_cell_magic\n",
    "from IPython.core.getipython import get_ipython\n",
    "from IPython.display import display\n",
    "import ipywidgets as widgets\n",
    "\n",
    "\n",
    "\n",
    "_choice = widgets.ToggleButtons(\n",
    "    options=['Client', 'Server'],\n",
    "    description='Side:',\n",
    "    disabled=False,\n",
    "    button_style='', # 'success', 'info', 'warning', 'danger' or ''\n",
    "    tooltips=['Client-side', 'Server-side'],\n",
    "#     icons=['check'] * 3\n",
    ")\n",
    "\n",
    "def not_choice(_choice):\n",
    "    _tmp = ['Client', 'Server']\n",
    "    _tmp.remove(_choice)\n",
    "    return _tmp[0]\n",
    "\n",
    "\n",
    "@register_cell_magic\n",
    "def skip_cell_if(line, cell):\n",
    "    \"\"\"Cell magic to skip execution if the cell contains the 'non-runnable' tag.\"\"\"\n",
    "    cell_metadata = get_ipython().user_ns['_ih'][-1]  # Get metadata of the current cell\n",
    "    tags = cell_metadata.splitlines()[0].strip('# ')  # Extract tags from first comment line\n",
    "\n",
    "    if not_choice(_choice.value) in tags:\n",
    "        print(f\"Skipping this cell (tagged as '{not_choice(_choice.value)}').\")\n",
    "    else:\n",
    "        # exec(cell) #fails when chaining cell magics\n",
    "        # get_ipython().run_cell(cell)\n",
    "        # print('\\n'.join(cell.split('\\n')[1:]))\n",
    "        # print(cell.split(\"\\n\"))\n",
    "        get_ipython().run_cell('\\n'.join(cell.split('\\n')[1:]))\n",
    "\n",
    "\n",
    "def on_click(change):\n",
    "\n",
    "    @register_cell_magic\n",
    "    def skip_cell_if(line, cell):\n",
    "        \"\"\"Cell magic to skip execution if the cell contains the 'non-runnable' tag.\"\"\"\n",
    "        cell_metadata = get_ipython().user_ns['_ih'][-1]  # Get metadata of the current cell\n",
    "        tags = cell_metadata.splitlines()[0].strip('# ')  # Extract tags from first comment line\n",
    "\n",
    "        if not_choice(change['new']) in tags:\n",
    "            print(f\"Skipping this cell (tagged as '{not_choice(change['new'])}').\")\n",
    "        else:\n",
    "            # exec(cell)\n",
    "            # get_ipython().run_cell(cell)\n",
    "            get_ipython().run_cell('\\n'.join(cell.split('\\n')[1:]))\n",
    "\n",
    "\n",
    "_choice.observe(on_click, 'value')\n",
    "\n",
    "display(_choice)"
   ]
  },
  {
   "cell_type": "code",
   "execution_count": 2,
   "metadata": {},
   "outputs": [
    {
     "name": "stdout",
     "output_type": "stream",
     "text": [
      "Skipping this cell (tagged as 'Server').\n"
     ]
    }
   ],
   "source": [
    "%%skip_cell_if\n",
    "# tags: Server\n",
    "print(\"Server\")"
   ]
  },
  {
   "cell_type": "code",
   "execution_count": 3,
   "metadata": {},
   "outputs": [
    {
     "name": "stdout",
     "output_type": "stream",
     "text": [
      "a.log\n",
      "dataset.py\n",
      "demo.ipynb\n",
      "img\n",
      "__init__.py\n",
      "integrated_test2.py\n",
      "integrated_test3.py\n",
      "integrated_test.py\n",
      "Makefile\n",
      "pipeline_from_decorator.py\n",
      "pipeline_from_functions.py\n",
      "pipeline_from_tasks.py\n",
      "__pycache__\n",
      "README.md\n",
      "requirements.txt\n",
      "reuse_artifact.py\n",
      "step1_dataset_artifact.py\n",
      "step2_data_processing.py\n",
      "step3_train_model.py\n",
      "storage.py\n",
      "test.py\n"
     ]
    }
   ],
   "source": [
    "%%skip_cell_if\n",
    "# tags: Client\n",
    "%%bash\n",
    "ls"
   ]
  },
  {
   "cell_type": "code",
   "execution_count": 4,
   "metadata": {},
   "outputs": [
    {
     "name": "stdout",
     "output_type": "stream",
     "text": [
      "Client\n"
     ]
    }
   ],
   "source": [
    "%%skip_cell_if\n",
    "# tags: Client\n",
    "print(\"Client\")"
   ]
  },
  {
   "cell_type": "code",
   "execution_count": 5,
   "metadata": {},
   "outputs": [
    {
     "name": "stdout",
     "output_type": "stream",
     "text": [
      "Client\n"
     ]
    }
   ],
   "source": [
    "print(_choice.value)"
   ]
  }
 ],
 "metadata": {
  "kernelspec": {
   "display_name": "Python 3",
   "language": "python",
   "name": "python3"
  },
  "language_info": {
   "codemirror_mode": {
    "name": "ipython",
    "version": 3
   },
   "file_extension": ".py",
   "mimetype": "text/x-python",
   "name": "python",
   "nbconvert_exporter": "python",
   "pygments_lexer": "ipython3",
   "version": "3.10.12"
  }
 },
 "nbformat": 4,
 "nbformat_minor": 2
}
